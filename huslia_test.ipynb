{
 "cells": [
  {
   "cell_type": "code",
   "execution_count": null,
   "metadata": {},
   "outputs": [],
   "source": [
    "using NetcdfIO\n",
    "using Statistics\n",
    "\n",
    "# File path\n",
    "nc_file = \"/net/fluo/data3/data/FluoData1/students/renato/aviris_huslia/merged_output.nc\"\n",
    "\n",
    "# Read Reflectance data\n",
    "println(\"Loading NetCDF data...\")\n",
    "_refl = read_nc(Float64, nc_file, \"Reflectance\")  # Dimensions: (wavelength, lat, lon)\n",
    "\n",
    "# Define slice range\n",
    "lat_range = 330:340\n",
    "lon_range = 340:350\n",
    "\n",
    "# Extract the slice\n",
    "_refl_slice = _refl[:, lat_range, lon_range]\n",
    "\n",
    "# Count NaNs in the slice\n",
    "nan_count = count(isnan, _refl_slice)\n",
    "\n",
    "total_values = prod(size(_refl_slice))\n",
    "valid_values = total_values - nan_count\n",
    "\n",
    "println(\"Total values in slice: \", total_values)\n",
    "println(\"Valid values (non-NaN): \", valid_values)\n",
    "println(\"NaN percentage: \", round(100 * nan_count / total_values, digits=2), \"%\")\n",
    "\n",
    "# Check a sample spectrum (from center of slice)\n",
    "lat_idx = lat_range[5]\n",
    "lon_idx = lon_range[5]\n",
    "spectrum_sample = _refl[:, lat_idx, lon_idx]\n",
    "\n",
    "println(\"\\nSample spectrum from ($lat_idx, $lon_idx):\")\n",
    "println(spectrum_sample)\n",
    "\n",
    "# Check if entire spectra are NaN\n",
    "all_nan_pixels = sum(all(isnan, _refl[:, i, j]) for i in lat_range, j in lon_range)\n",
    "println(\"Pixels where all values are NaN: \", all_nan_pixels, \" out of \", length(lat_range) * length(lon_range))\n"
   ]
  }
 ],
 "metadata": {
  "kernelspec": {
   "display_name": "Julia 1.9.3",
   "language": "julia",
   "name": "julia-1.9"
  },
  "language_info": {
   "file_extension": ".jl",
   "mimetype": "application/julia",
   "name": "julia",
   "version": "1.9.3"
  }
 },
 "nbformat": 4,
 "nbformat_minor": 2
}
